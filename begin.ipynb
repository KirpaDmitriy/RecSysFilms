{
 "cells": [
  {
   "cell_type": "markdown",
   "id": "046eef15",
   "metadata": {},
   "source": [
    "# Рекомендательная система"
   ]
  },
  {
   "cell_type": "markdown",
   "id": "567cab67",
   "metadata": {},
   "source": [
    "Задача - написать систему, способную предсказывать пользователю фильмы, которые он оценит. Это эквивалентно задаче ранжирования имеющигося наборов фильмов, так, чтобы прежде всего выдавались самые интересные среди еще не просмотренных фильмов. Для решения использовал:\n",
    "<ul>\n",
    "    <li><b>Факторизацию</b>, то есть разложил матрицу пользователь-товар на две матрицы, содержащие скрытые признаки предпочтений пользователей и особенностей товаров. Использовал SVD-разложение в разных реализациях</li>\n",
    "    <li><b>Контентный подход</b> - сделал из описаний фильмов от пользователей TF-IDF эмбеддинги, а затем измерял степень похожести полученных текстов</li>\n",
    "</ul>\n",
    "Среди метрик выбрал среди Precision at k (p@k), MGG, nDCG, pFound. Остановился на первой - она самая простая и при этом не учитывает порядок рекомендаций. Упор решил сделать именно на наличие релевантных фильмов в выдаче алгоритма, их порядок оставил в стороне."
   ]
  },
  {
   "cell_type": "code",
   "execution_count": 2,
   "id": "3627568d",
   "metadata": {},
   "outputs": [],
   "source": [
    "from scipy.sparse import csc_matrix\n",
    "from scipy import sparse\n",
    "import pandas as pd\n",
    "import numpy as np"
   ]
  },
  {
   "cell_type": "code",
   "execution_count": 3,
   "id": "4ed88274",
   "metadata": {},
   "outputs": [],
   "source": [
    "rates = pd.read_csv('rating.csv')"
   ]
  },
  {
   "cell_type": "code",
   "execution_count": 4,
   "id": "99e33cb5",
   "metadata": {},
   "outputs": [
    {
     "data": {
      "text/html": [
       "<div>\n",
       "<style scoped>\n",
       "    .dataframe tbody tr th:only-of-type {\n",
       "        vertical-align: middle;\n",
       "    }\n",
       "\n",
       "    .dataframe tbody tr th {\n",
       "        vertical-align: top;\n",
       "    }\n",
       "\n",
       "    .dataframe thead th {\n",
       "        text-align: right;\n",
       "    }\n",
       "</style>\n",
       "<table border=\"1\" class=\"dataframe\">\n",
       "  <thead>\n",
       "    <tr style=\"text-align: right;\">\n",
       "      <th></th>\n",
       "      <th>userId</th>\n",
       "      <th>movieId</th>\n",
       "      <th>rating</th>\n",
       "      <th>timestamp</th>\n",
       "    </tr>\n",
       "  </thead>\n",
       "  <tbody>\n",
       "    <tr>\n",
       "      <th>0</th>\n",
       "      <td>1</td>\n",
       "      <td>2</td>\n",
       "      <td>3.5</td>\n",
       "      <td>2005-04-02 23:53:47</td>\n",
       "    </tr>\n",
       "    <tr>\n",
       "      <th>1</th>\n",
       "      <td>1</td>\n",
       "      <td>29</td>\n",
       "      <td>3.5</td>\n",
       "      <td>2005-04-02 23:31:16</td>\n",
       "    </tr>\n",
       "    <tr>\n",
       "      <th>2</th>\n",
       "      <td>1</td>\n",
       "      <td>32</td>\n",
       "      <td>3.5</td>\n",
       "      <td>2005-04-02 23:33:39</td>\n",
       "    </tr>\n",
       "    <tr>\n",
       "      <th>3</th>\n",
       "      <td>1</td>\n",
       "      <td>47</td>\n",
       "      <td>3.5</td>\n",
       "      <td>2005-04-02 23:32:07</td>\n",
       "    </tr>\n",
       "    <tr>\n",
       "      <th>4</th>\n",
       "      <td>1</td>\n",
       "      <td>50</td>\n",
       "      <td>3.5</td>\n",
       "      <td>2005-04-02 23:29:40</td>\n",
       "    </tr>\n",
       "  </tbody>\n",
       "</table>\n",
       "</div>"
      ],
      "text/plain": [
       "   userId  movieId  rating            timestamp\n",
       "0       1        2     3.5  2005-04-02 23:53:47\n",
       "1       1       29     3.5  2005-04-02 23:31:16\n",
       "2       1       32     3.5  2005-04-02 23:33:39\n",
       "3       1       47     3.5  2005-04-02 23:32:07\n",
       "4       1       50     3.5  2005-04-02 23:29:40"
      ]
     },
     "execution_count": 4,
     "metadata": {},
     "output_type": "execute_result"
    }
   ],
   "source": [
    "rates.head()"
   ]
  },
  {
   "cell_type": "code",
   "execution_count": 5,
   "id": "eeb4f2f4",
   "metadata": {},
   "outputs": [
    {
     "data": {
      "text/plain": [
       "(138493, 26744)"
      ]
     },
     "execution_count": 5,
     "metadata": {},
     "output_type": "execute_result"
    }
   ],
   "source": [
    "users_number = rates.userId.unique().shape[0]\n",
    "movies_number = rates.movieId.unique().shape[0]\n",
    "users_number, movies_number"
   ]
  },
  {
   "cell_type": "code",
   "execution_count": 6,
   "id": "73ba177c",
   "metadata": {},
   "outputs": [],
   "source": [
    "id_to_row = { dfid: row for row, dfid in enumerate(rates.userId.unique()) }\n",
    "id_to_col = { dfid: col for col, dfid in enumerate(rates.movieId.unique()) }"
   ]
  },
  {
   "cell_type": "code",
   "execution_count": 7,
   "id": "d54dff11",
   "metadata": {
    "scrolled": true
   },
   "outputs": [
    {
     "data": {
      "text/html": [
       "<div>\n",
       "<style scoped>\n",
       "    .dataframe tbody tr th:only-of-type {\n",
       "        vertical-align: middle;\n",
       "    }\n",
       "\n",
       "    .dataframe tbody tr th {\n",
       "        vertical-align: top;\n",
       "    }\n",
       "\n",
       "    .dataframe thead th {\n",
       "        text-align: right;\n",
       "    }\n",
       "</style>\n",
       "<table border=\"1\" class=\"dataframe\">\n",
       "  <thead>\n",
       "    <tr style=\"text-align: right;\">\n",
       "      <th></th>\n",
       "      <th>userId</th>\n",
       "      <th>movieId</th>\n",
       "      <th>rating</th>\n",
       "    </tr>\n",
       "  </thead>\n",
       "  <tbody>\n",
       "    <tr>\n",
       "      <th>0</th>\n",
       "      <td>0</td>\n",
       "      <td>0</td>\n",
       "      <td>3.5</td>\n",
       "    </tr>\n",
       "    <tr>\n",
       "      <th>1</th>\n",
       "      <td>0</td>\n",
       "      <td>1</td>\n",
       "      <td>3.5</td>\n",
       "    </tr>\n",
       "    <tr>\n",
       "      <th>2</th>\n",
       "      <td>0</td>\n",
       "      <td>2</td>\n",
       "      <td>3.5</td>\n",
       "    </tr>\n",
       "    <tr>\n",
       "      <th>3</th>\n",
       "      <td>0</td>\n",
       "      <td>3</td>\n",
       "      <td>3.5</td>\n",
       "    </tr>\n",
       "    <tr>\n",
       "      <th>4</th>\n",
       "      <td>0</td>\n",
       "      <td>4</td>\n",
       "      <td>3.5</td>\n",
       "    </tr>\n",
       "    <tr>\n",
       "      <th>...</th>\n",
       "      <td>...</td>\n",
       "      <td>...</td>\n",
       "      <td>...</td>\n",
       "    </tr>\n",
       "    <tr>\n",
       "      <th>20000258</th>\n",
       "      <td>138492</td>\n",
       "      <td>1814</td>\n",
       "      <td>4.5</td>\n",
       "    </tr>\n",
       "    <tr>\n",
       "      <th>20000259</th>\n",
       "      <td>138492</td>\n",
       "      <td>1037</td>\n",
       "      <td>4.5</td>\n",
       "    </tr>\n",
       "    <tr>\n",
       "      <th>20000260</th>\n",
       "      <td>138492</td>\n",
       "      <td>3950</td>\n",
       "      <td>3.0</td>\n",
       "    </tr>\n",
       "    <tr>\n",
       "      <th>20000261</th>\n",
       "      <td>138492</td>\n",
       "      <td>1818</td>\n",
       "      <td>5.0</td>\n",
       "    </tr>\n",
       "    <tr>\n",
       "      <th>20000262</th>\n",
       "      <td>138492</td>\n",
       "      <td>4010</td>\n",
       "      <td>2.5</td>\n",
       "    </tr>\n",
       "  </tbody>\n",
       "</table>\n",
       "<p>20000263 rows × 3 columns</p>\n",
       "</div>"
      ],
      "text/plain": [
       "          userId  movieId  rating\n",
       "0              0        0     3.5\n",
       "1              0        1     3.5\n",
       "2              0        2     3.5\n",
       "3              0        3     3.5\n",
       "4              0        4     3.5\n",
       "...          ...      ...     ...\n",
       "20000258  138492     1814     4.5\n",
       "20000259  138492     1037     4.5\n",
       "20000260  138492     3950     3.0\n",
       "20000261  138492     1818     5.0\n",
       "20000262  138492     4010     2.5\n",
       "\n",
       "[20000263 rows x 3 columns]"
      ]
     },
     "execution_count": 7,
     "metadata": {},
     "output_type": "execute_result"
    }
   ],
   "source": [
    "prepared_data = rates.drop(columns='timestamp')\n",
    "prepared_data['userId'] = np.array([id_to_row[dfid] for dfid in rates.userId])\n",
    "prepared_data['movieId'] = np.array([id_to_col[dfid] for dfid in rates.movieId])\n",
    "prepared_data"
   ]
  },
  {
   "cell_type": "code",
   "execution_count": 8,
   "id": "d7649ce6",
   "metadata": {},
   "outputs": [],
   "source": [
    "user_film_matrix = csc_matrix((prepared_data['rating'].values, (prepared_data['userId'].values.astype(int), prepared_data['movieId'].values.astype(int))))"
   ]
  },
  {
   "cell_type": "markdown",
   "id": "20b4c54b",
   "metadata": {},
   "source": [
    "Подготовил датасет с рейтингами, сделал разреженную сатрицу пользователь-продукт."
   ]
  },
  {
   "cell_type": "code",
   "execution_count": 9,
   "id": "a31e9cff",
   "metadata": {},
   "outputs": [
    {
     "data": {
      "text/plain": [
       "<138493x26744 sparse matrix of type '<class 'numpy.float64'>'\n",
       "\twith 20000263 stored elements in Compressed Sparse Column format>"
      ]
     },
     "execution_count": 9,
     "metadata": {},
     "output_type": "execute_result"
    }
   ],
   "source": [
    "user_film_matrix"
   ]
  },
  {
   "cell_type": "code",
   "execution_count": 48,
   "id": "72a3fa49",
   "metadata": {},
   "outputs": [
    {
     "ename": "MemoryError",
     "evalue": "Unable to allocate 27.6 GiB for an array with shape (138493, 26744) and data type float64",
     "output_type": "error",
     "traceback": [
      "\u001b[1;31m---------------------------------------------------------------------------\u001b[0m",
      "\u001b[1;31mMemoryError\u001b[0m                               Traceback (most recent call last)",
      "\u001b[1;32m<ipython-input-48-eb1b5b918351>\u001b[0m in \u001b[0;36m<module>\u001b[1;34m\u001b[0m\n\u001b[0;32m      1\u001b[0m \u001b[1;32mfrom\u001b[0m \u001b[0mscipy\u001b[0m\u001b[1;33m.\u001b[0m\u001b[0mlinalg\u001b[0m \u001b[1;32mimport\u001b[0m \u001b[0msvd\u001b[0m\u001b[1;33m\u001b[0m\u001b[1;33m\u001b[0m\u001b[0m\n\u001b[0;32m      2\u001b[0m \u001b[1;33m\u001b[0m\u001b[0m\n\u001b[1;32m----> 3\u001b[1;33m \u001b[0msvd\u001b[0m\u001b[1;33m(\u001b[0m\u001b[0muser_film_matrix\u001b[0m\u001b[1;33m.\u001b[0m\u001b[0mtodense\u001b[0m\u001b[1;33m(\u001b[0m\u001b[1;33m)\u001b[0m\u001b[1;33m)\u001b[0m\u001b[1;33m\u001b[0m\u001b[1;33m\u001b[0m\u001b[0m\n\u001b[0m",
      "\u001b[1;32m~\\anaconda3\\lib\\site-packages\\scipy\\sparse\\base.py\u001b[0m in \u001b[0;36mtodense\u001b[1;34m(self, order, out)\u001b[0m\n\u001b[0;32m    862\u001b[0m             \u001b[0;31m`\u001b[0m\u001b[0mnumpy\u001b[0m\u001b[1;33m.\u001b[0m\u001b[0mmatrix\u001b[0m\u001b[0;31m`\u001b[0m \u001b[0mobject\u001b[0m \u001b[0mthat\u001b[0m \u001b[0mshares\u001b[0m \u001b[0mthe\u001b[0m \u001b[0msame\u001b[0m \u001b[0mmemory\u001b[0m\u001b[1;33m.\u001b[0m\u001b[1;33m\u001b[0m\u001b[1;33m\u001b[0m\u001b[0m\n\u001b[0;32m    863\u001b[0m         \"\"\"\n\u001b[1;32m--> 864\u001b[1;33m         \u001b[1;32mreturn\u001b[0m \u001b[0masmatrix\u001b[0m\u001b[1;33m(\u001b[0m\u001b[0mself\u001b[0m\u001b[1;33m.\u001b[0m\u001b[0mtoarray\u001b[0m\u001b[1;33m(\u001b[0m\u001b[0morder\u001b[0m\u001b[1;33m=\u001b[0m\u001b[0morder\u001b[0m\u001b[1;33m,\u001b[0m \u001b[0mout\u001b[0m\u001b[1;33m=\u001b[0m\u001b[0mout\u001b[0m\u001b[1;33m)\u001b[0m\u001b[1;33m)\u001b[0m\u001b[1;33m\u001b[0m\u001b[1;33m\u001b[0m\u001b[0m\n\u001b[0m\u001b[0;32m    865\u001b[0m \u001b[1;33m\u001b[0m\u001b[0m\n\u001b[0;32m    866\u001b[0m     \u001b[1;32mdef\u001b[0m \u001b[0mtoarray\u001b[0m\u001b[1;33m(\u001b[0m\u001b[0mself\u001b[0m\u001b[1;33m,\u001b[0m \u001b[0morder\u001b[0m\u001b[1;33m=\u001b[0m\u001b[1;32mNone\u001b[0m\u001b[1;33m,\u001b[0m \u001b[0mout\u001b[0m\u001b[1;33m=\u001b[0m\u001b[1;32mNone\u001b[0m\u001b[1;33m)\u001b[0m\u001b[1;33m:\u001b[0m\u001b[1;33m\u001b[0m\u001b[1;33m\u001b[0m\u001b[0m\n",
      "\u001b[1;32m~\\anaconda3\\lib\\site-packages\\scipy\\sparse\\coo.py\u001b[0m in \u001b[0;36mtoarray\u001b[1;34m(self, order, out)\u001b[0m\n\u001b[0;32m    319\u001b[0m     \u001b[1;32mdef\u001b[0m \u001b[0mtoarray\u001b[0m\u001b[1;33m(\u001b[0m\u001b[0mself\u001b[0m\u001b[1;33m,\u001b[0m \u001b[0morder\u001b[0m\u001b[1;33m=\u001b[0m\u001b[1;32mNone\u001b[0m\u001b[1;33m,\u001b[0m \u001b[0mout\u001b[0m\u001b[1;33m=\u001b[0m\u001b[1;32mNone\u001b[0m\u001b[1;33m)\u001b[0m\u001b[1;33m:\u001b[0m\u001b[1;33m\u001b[0m\u001b[1;33m\u001b[0m\u001b[0m\n\u001b[0;32m    320\u001b[0m         \u001b[1;34m\"\"\"See the docstring for `spmatrix.toarray`.\"\"\"\u001b[0m\u001b[1;33m\u001b[0m\u001b[1;33m\u001b[0m\u001b[0m\n\u001b[1;32m--> 321\u001b[1;33m         \u001b[0mB\u001b[0m \u001b[1;33m=\u001b[0m \u001b[0mself\u001b[0m\u001b[1;33m.\u001b[0m\u001b[0m_process_toarray_args\u001b[0m\u001b[1;33m(\u001b[0m\u001b[0morder\u001b[0m\u001b[1;33m,\u001b[0m \u001b[0mout\u001b[0m\u001b[1;33m)\u001b[0m\u001b[1;33m\u001b[0m\u001b[1;33m\u001b[0m\u001b[0m\n\u001b[0m\u001b[0;32m    322\u001b[0m         \u001b[0mfortran\u001b[0m \u001b[1;33m=\u001b[0m \u001b[0mint\u001b[0m\u001b[1;33m(\u001b[0m\u001b[0mB\u001b[0m\u001b[1;33m.\u001b[0m\u001b[0mflags\u001b[0m\u001b[1;33m.\u001b[0m\u001b[0mf_contiguous\u001b[0m\u001b[1;33m)\u001b[0m\u001b[1;33m\u001b[0m\u001b[1;33m\u001b[0m\u001b[0m\n\u001b[0;32m    323\u001b[0m         \u001b[1;32mif\u001b[0m \u001b[1;32mnot\u001b[0m \u001b[0mfortran\u001b[0m \u001b[1;32mand\u001b[0m \u001b[1;32mnot\u001b[0m \u001b[0mB\u001b[0m\u001b[1;33m.\u001b[0m\u001b[0mflags\u001b[0m\u001b[1;33m.\u001b[0m\u001b[0mc_contiguous\u001b[0m\u001b[1;33m:\u001b[0m\u001b[1;33m\u001b[0m\u001b[1;33m\u001b[0m\u001b[0m\n",
      "\u001b[1;32m~\\anaconda3\\lib\\site-packages\\scipy\\sparse\\base.py\u001b[0m in \u001b[0;36m_process_toarray_args\u001b[1;34m(self, order, out)\u001b[0m\n\u001b[0;32m   1200\u001b[0m             \u001b[1;32mreturn\u001b[0m \u001b[0mout\u001b[0m\u001b[1;33m\u001b[0m\u001b[1;33m\u001b[0m\u001b[0m\n\u001b[0;32m   1201\u001b[0m         \u001b[1;32melse\u001b[0m\u001b[1;33m:\u001b[0m\u001b[1;33m\u001b[0m\u001b[1;33m\u001b[0m\u001b[0m\n\u001b[1;32m-> 1202\u001b[1;33m             \u001b[1;32mreturn\u001b[0m \u001b[0mnp\u001b[0m\u001b[1;33m.\u001b[0m\u001b[0mzeros\u001b[0m\u001b[1;33m(\u001b[0m\u001b[0mself\u001b[0m\u001b[1;33m.\u001b[0m\u001b[0mshape\u001b[0m\u001b[1;33m,\u001b[0m \u001b[0mdtype\u001b[0m\u001b[1;33m=\u001b[0m\u001b[0mself\u001b[0m\u001b[1;33m.\u001b[0m\u001b[0mdtype\u001b[0m\u001b[1;33m,\u001b[0m \u001b[0morder\u001b[0m\u001b[1;33m=\u001b[0m\u001b[0morder\u001b[0m\u001b[1;33m)\u001b[0m\u001b[1;33m\u001b[0m\u001b[1;33m\u001b[0m\u001b[0m\n\u001b[0m\u001b[0;32m   1203\u001b[0m \u001b[1;33m\u001b[0m\u001b[0m\n\u001b[0;32m   1204\u001b[0m \u001b[1;33m\u001b[0m\u001b[0m\n",
      "\u001b[1;31mMemoryError\u001b[0m: Unable to allocate 27.6 GiB for an array with shape (138493, 26744) and data type float64"
     ]
    }
   ],
   "source": [
    "from scipy.linalg import svd\n",
    "\n",
    "svd(user_film_matrix.todense())"
   ]
  },
  {
   "cell_type": "markdown",
   "id": "fa85b259",
   "metadata": {},
   "source": [
    "Как и следовало ожидать, данные огромны и занимают много памяти, использовать svd из scipy не выйдет."
   ]
  },
  {
   "cell_type": "code",
   "execution_count": 12,
   "id": "29568c65",
   "metadata": {},
   "outputs": [
    {
     "name": "stdout",
     "output_type": "stream",
     "text": [
      "Requirement already satisfied: cython in c:\\users\\kirpa\\anaconda3\\lib\\site-packages (0.29.23)\n",
      "Requirement already satisfied: sparsesvd in c:\\users\\kirpa\\anaconda3\\lib\\site-packages (0.2.2)\n",
      "Requirement already satisfied: scipy>=0.6.0 in c:\\users\\kirpa\\anaconda3\\lib\\site-packages (from sparsesvd) (1.6.2)\n",
      "Requirement already satisfied: cython in c:\\users\\kirpa\\anaconda3\\lib\\site-packages (from sparsesvd) (0.29.23)\n",
      "Requirement already satisfied: numpy<1.23.0,>=1.16.5 in c:\\users\\kirpa\\anaconda3\\lib\\site-packages (from scipy>=0.6.0->sparsesvd) (1.19.5)\n"
     ]
    }
   ],
   "source": [
    "!pip install cython\n",
    "!pip install sparsesvd"
   ]
  },
  {
   "cell_type": "markdown",
   "id": "9ddf51d3",
   "metadata": {},
   "source": [
    "<a href=\"https://pypi.org/project/sparsesvd/\">Свд на разреженной матрице</a>"
   ]
  },
  {
   "cell_type": "code",
   "execution_count": 13,
   "id": "ab4fba5e",
   "metadata": {},
   "outputs": [],
   "source": [
    "from sparsesvd import sparsesvd\n",
    "\n",
    "ut, s, vt = sparsesvd(user_film_matrix, 5)"
   ]
  },
  {
   "cell_type": "markdown",
   "id": "d483632b",
   "metadata": {},
   "source": [
    "Беру f=5. Получаю 5 признаков товара и 5 предпочтений пользователя. Умножая матрицу призаков товаров на матрицу предпочтений данного пользователя, получаю числа, по которым могу ранжировать."
   ]
  },
  {
   "cell_type": "code",
   "execution_count": 16,
   "id": "952859f4",
   "metadata": {},
   "outputs": [],
   "source": [
    "from sklearn.decomposition import TruncatedSVD\n",
    "\n",
    "svd_users = TruncatedSVD(n_components=10, n_iter=10)\n",
    "svded_users = svd_users.fit(user_film_matrix)"
   ]
  },
  {
   "cell_type": "code",
   "execution_count": 111,
   "id": "7edd8f0d",
   "metadata": {},
   "outputs": [
    {
     "data": {
      "text/plain": [
       "array([[20.03771706, -4.45696616,  0.99440048, -3.59568524, -9.06578936,\n",
       "         3.36720137,  2.05124509,  6.07699847, -5.36178934,  1.4623455 ,\n",
       "        -1.58243568,  1.37672644, -3.26066888, 10.11393113,  1.18601043,\n",
       "         5.34172206,  1.26297806,  0.25700577,  2.17136259, -2.80654454,\n",
       "        -5.33845419,  2.63715366,  1.35774994,  0.5595823 ,  3.75674578]])"
      ]
     },
     "execution_count": 111,
     "metadata": {},
     "output_type": "execute_result"
    }
   ],
   "source": [
    "svded_users.transform(user_film_matrix[0])"
   ]
  },
  {
   "cell_type": "code",
   "execution_count": 114,
   "id": "71a0283d",
   "metadata": {},
   "outputs": [],
   "source": [
    "svd_films = TruncatedSVD(n_components=25, n_iter=7, random_state=42)\n",
    "svded_films = svd_films.fit(user_film_matrix.T)"
   ]
  },
  {
   "cell_type": "code",
   "execution_count": 115,
   "id": "5c78fc79",
   "metadata": {},
   "outputs": [
    {
     "data": {
      "text/plain": [
       "array([[259.9862393 ,  95.73593357, 120.13639078, -74.22653025,\n",
       "        -28.67424554,  16.14964747, -64.03243882, -49.42486402,\n",
       "        -18.55344069,   7.30076608, -26.69836222,  26.44873469,\n",
       "        -44.40279859, -38.94945599,  -5.17088289, -22.70884276,\n",
       "        -22.84441425, -14.41338467,  -5.66448593, -34.57429122,\n",
       "         19.0548537 , -42.27354191, -25.89360131, -11.54128998,\n",
       "         25.09036274]])"
      ]
     },
     "execution_count": 115,
     "metadata": {},
     "output_type": "execute_result"
    }
   ],
   "source": [
    "svded_films.transform(user_film_matrix.T[0])"
   ]
  },
  {
   "cell_type": "code",
   "execution_count": 123,
   "id": "316c81b6",
   "metadata": {},
   "outputs": [
    {
     "data": {
      "text/plain": [
       "array([[16.75136297]])"
      ]
     },
     "execution_count": 123,
     "metadata": {},
     "output_type": "execute_result"
    }
   ],
   "source": [
    "svded_users.transform(user_film_matrix[0]) @ svded_films.transform(user_film_matrix.T[4]).T / 4000 * 5"
   ]
  }
 ],
 "metadata": {
  "kernelspec": {
   "display_name": "Python 3",
   "language": "python",
   "name": "python3"
  },
  "language_info": {
   "codemirror_mode": {
    "name": "ipython",
    "version": 3
   },
   "file_extension": ".py",
   "mimetype": "text/x-python",
   "name": "python",
   "nbconvert_exporter": "python",
   "pygments_lexer": "ipython3",
   "version": "3.8.8"
  }
 },
 "nbformat": 4,
 "nbformat_minor": 5
}
