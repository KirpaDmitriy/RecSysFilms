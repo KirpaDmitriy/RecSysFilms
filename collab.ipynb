{
 "cells": [
  {
   "cell_type": "markdown",
   "id": "bcfc533d",
   "metadata": {},
   "source": [
    "Воспользуюсь несколькими библиотеками для упрощения работы."
   ]
  },
  {
   "cell_type": "code",
   "execution_count": 1,
   "id": "667c1ea4",
   "metadata": {},
   "outputs": [
    {
     "name": "stdout",
     "output_type": "stream",
     "text": [
      "Collecting surprise\n",
      "  Downloading surprise-0.1-py2.py3-none-any.whl (1.8 kB)\n",
      "Collecting scikit-surprise\n",
      "  Downloading scikit-surprise-1.1.1.tar.gz (11.8 MB)\n",
      "Requirement already satisfied: joblib>=0.11 in c:\\users\\kirpa\\anaconda3\\lib\\site-packages (from scikit-surprise->surprise) (1.0.1)\n",
      "Requirement already satisfied: numpy>=1.11.2 in c:\\users\\kirpa\\anaconda3\\lib\\site-packages (from scikit-surprise->surprise) (1.19.5)\n",
      "Requirement already satisfied: scipy>=1.0.0 in c:\\users\\kirpa\\anaconda3\\lib\\site-packages (from scikit-surprise->surprise) (1.6.2)\n",
      "Requirement already satisfied: six>=1.10.0 in c:\\users\\kirpa\\anaconda3\\lib\\site-packages (from scikit-surprise->surprise) (1.15.0)\n",
      "Building wheels for collected packages: scikit-surprise\n",
      "  Building wheel for scikit-surprise (setup.py): started\n",
      "  Building wheel for scikit-surprise (setup.py): finished with status 'done'\n",
      "  Created wheel for scikit-surprise: filename=scikit_surprise-1.1.1-cp38-cp38-win_amd64.whl size=708757 sha256=6350213bcadaf69c71a21ed6d16e22f33df25f9f4dcc39e869046ba2a5706b9e\n",
      "  Stored in directory: c:\\users\\kirpa\\appdata\\local\\pip\\cache\\wheels\\20\\91\\57\\2965d4cff1b8ac7ed1b6fa25741882af3974b54a31759e10b6\n",
      "Successfully built scikit-surprise\n",
      "Installing collected packages: scikit-surprise, surprise\n",
      "Successfully installed scikit-surprise-1.1.1 surprise-0.1\n"
     ]
    }
   ],
   "source": [
    "!pip install surprise"
   ]
  },
  {
   "cell_type": "code",
   "execution_count": 25,
   "id": "a4fc2749",
   "metadata": {},
   "outputs": [],
   "source": [
    "from surprise import Reader, SVD, Dataset, accuracy\n",
    "from surprise.model_selection import train_test_split, cross_validate"
   ]
  },
  {
   "cell_type": "code",
   "execution_count": 26,
   "id": "c6c32fd0",
   "metadata": {},
   "outputs": [],
   "source": [
    "from scipy.sparse import csc_matrix\n",
    "from scipy import sparse\n",
    "import pandas as pd\n",
    "import numpy as np"
   ]
  },
  {
   "cell_type": "code",
   "execution_count": 27,
   "id": "8ea9828b",
   "metadata": {},
   "outputs": [],
   "source": [
    "rates = pd.read_csv('rating.csv')"
   ]
  },
  {
   "cell_type": "code",
   "execution_count": 28,
   "id": "fb2bf8f4",
   "metadata": {},
   "outputs": [
    {
     "data": {
      "text/plain": [
       "(138493, 26744)"
      ]
     },
     "execution_count": 28,
     "metadata": {},
     "output_type": "execute_result"
    }
   ],
   "source": [
    "users_number = rates.userId.unique().shape[0]\n",
    "movies_number = rates.movieId.unique().shape[0]\n",
    "users_number, movies_number"
   ]
  },
  {
   "cell_type": "code",
   "execution_count": 29,
   "id": "726954f3",
   "metadata": {},
   "outputs": [],
   "source": [
    "id_to_row = { dfid: row for row, dfid in enumerate(rates.userId.unique()) }\n",
    "id_to_col = { dfid: col for col, dfid in enumerate(rates.movieId.unique()) }"
   ]
  },
  {
   "cell_type": "code",
   "execution_count": 30,
   "id": "86c30f6c",
   "metadata": {},
   "outputs": [
    {
     "data": {
      "text/html": [
       "<div>\n",
       "<style scoped>\n",
       "    .dataframe tbody tr th:only-of-type {\n",
       "        vertical-align: middle;\n",
       "    }\n",
       "\n",
       "    .dataframe tbody tr th {\n",
       "        vertical-align: top;\n",
       "    }\n",
       "\n",
       "    .dataframe thead th {\n",
       "        text-align: right;\n",
       "    }\n",
       "</style>\n",
       "<table border=\"1\" class=\"dataframe\">\n",
       "  <thead>\n",
       "    <tr style=\"text-align: right;\">\n",
       "      <th></th>\n",
       "      <th>userId</th>\n",
       "      <th>movieId</th>\n",
       "      <th>rating</th>\n",
       "    </tr>\n",
       "  </thead>\n",
       "  <tbody>\n",
       "    <tr>\n",
       "      <th>17662939</th>\n",
       "      <td>122159</td>\n",
       "      <td>1571</td>\n",
       "      <td>4.0</td>\n",
       "    </tr>\n",
       "    <tr>\n",
       "      <th>15328433</th>\n",
       "      <td>105998</td>\n",
       "      <td>1644</td>\n",
       "      <td>3.0</td>\n",
       "    </tr>\n",
       "    <tr>\n",
       "      <th>9666916</th>\n",
       "      <td>66844</td>\n",
       "      <td>535</td>\n",
       "      <td>1.0</td>\n",
       "    </tr>\n",
       "    <tr>\n",
       "      <th>19065797</th>\n",
       "      <td>131903</td>\n",
       "      <td>12175</td>\n",
       "      <td>3.0</td>\n",
       "    </tr>\n",
       "    <tr>\n",
       "      <th>6239788</th>\n",
       "      <td>42908</td>\n",
       "      <td>2820</td>\n",
       "      <td>3.5</td>\n",
       "    </tr>\n",
       "    <tr>\n",
       "      <th>9179175</th>\n",
       "      <td>63443</td>\n",
       "      <td>6695</td>\n",
       "      <td>1.0</td>\n",
       "    </tr>\n",
       "    <tr>\n",
       "      <th>3550837</th>\n",
       "      <td>24211</td>\n",
       "      <td>4441</td>\n",
       "      <td>3.0</td>\n",
       "    </tr>\n",
       "    <tr>\n",
       "      <th>18222166</th>\n",
       "      <td>126014</td>\n",
       "      <td>1402</td>\n",
       "      <td>4.0</td>\n",
       "    </tr>\n",
       "    <tr>\n",
       "      <th>6642010</th>\n",
       "      <td>45721</td>\n",
       "      <td>610</td>\n",
       "      <td>0.5</td>\n",
       "    </tr>\n",
       "    <tr>\n",
       "      <th>15938910</th>\n",
       "      <td>110269</td>\n",
       "      <td>2165</td>\n",
       "      <td>1.5</td>\n",
       "    </tr>\n",
       "  </tbody>\n",
       "</table>\n",
       "</div>"
      ],
      "text/plain": [
       "          userId  movieId  rating\n",
       "17662939  122159     1571     4.0\n",
       "15328433  105998     1644     3.0\n",
       "9666916    66844      535     1.0\n",
       "19065797  131903    12175     3.0\n",
       "6239788    42908     2820     3.5\n",
       "9179175    63443     6695     1.0\n",
       "3550837    24211     4441     3.0\n",
       "18222166  126014     1402     4.0\n",
       "6642010    45721      610     0.5\n",
       "15938910  110269     2165     1.5"
      ]
     },
     "execution_count": 30,
     "metadata": {},
     "output_type": "execute_result"
    }
   ],
   "source": [
    "prepared_data = rates.drop(columns='timestamp')\n",
    "prepared_data['userId'] = np.array([id_to_row[dfid] for dfid in rates.userId])\n",
    "prepared_data['movieId'] = np.array([id_to_col[dfid] for dfid in rates.movieId])\n",
    "prepared_data.sample(n=10)"
   ]
  },
  {
   "cell_type": "code",
   "execution_count": 31,
   "id": "6f4959ce",
   "metadata": {},
   "outputs": [],
   "source": [
    "user_film_matrix = csc_matrix((prepared_data['rating'].values, (prepared_data['userId'].values.astype(int), prepared_data['movieId'].values.astype(int))))"
   ]
  },
  {
   "cell_type": "code",
   "execution_count": 32,
   "id": "1b617e1b",
   "metadata": {},
   "outputs": [
    {
     "data": {
      "text/plain": [
       "surprise.dataset.DatasetAutoFolds"
      ]
     },
     "execution_count": 32,
     "metadata": {},
     "output_type": "execute_result"
    }
   ],
   "source": [
    "reader = Reader(rating_scale=(1, 5))\n",
    "data = Dataset.load_from_df(prepared_data.sample(n=10000)[['userId', 'movieId', 'rating']], reader)\n",
    "type(data)"
   ]
  },
  {
   "cell_type": "code",
   "execution_count": 33,
   "id": "8bda1970",
   "metadata": {},
   "outputs": [
    {
     "data": {
      "text/plain": [
       "<surprise.prediction_algorithms.matrix_factorization.SVD at 0x1b1f35a3100>"
      ]
     },
     "execution_count": 33,
     "metadata": {},
     "output_type": "execute_result"
    }
   ],
   "source": [
    "trainset, testset = train_test_split(data, test_size=0.25)\n",
    "\n",
    "svd_model = SVD()\n",
    "svd_model.fit(trainset)"
   ]
  },
  {
   "cell_type": "code",
   "execution_count": 41,
   "id": "33f561b2",
   "metadata": {},
   "outputs": [
    {
     "data": {
      "text/plain": [
       "2500"
      ]
     },
     "execution_count": 41,
     "metadata": {},
     "output_type": "execute_result"
    }
   ],
   "source": [
    "len(testset)"
   ]
  },
  {
   "cell_type": "code",
   "execution_count": 44,
   "id": "08a55904",
   "metadata": {},
   "outputs": [
    {
     "data": {
      "text/plain": [
       "[Prediction(uid=22411, iid=401, r_ui=4.0, est=3.7054813149850534, details={'was_impossible': False}),\n",
       " Prediction(uid=106756, iid=8098, r_ui=4.5, est=3.5324, details={'was_impossible': False}),\n",
       " Prediction(uid=128346, iid=1529, r_ui=3.5, est=3.6039194994355013, details={'was_impossible': False}),\n",
       " Prediction(uid=110410, iid=3448, r_ui=4.0, est=3.490923926723941, details={'was_impossible': False}),\n",
       " Prediction(uid=123326, iid=1264, r_ui=4.0, est=3.4791391739515287, details={'was_impossible': False}),\n",
       " Prediction(uid=103015, iid=858, r_ui=4.0, est=3.589746451897423, details={'was_impossible': False}),\n",
       " Prediction(uid=68290, iid=9, r_ui=5.0, est=4.197507729917382, details={'was_impossible': False}),\n",
       " Prediction(uid=90529, iid=4, r_ui=5.0, est=4.131749466903174, details={'was_impossible': False}),\n",
       " Prediction(uid=24150, iid=3313, r_ui=4.0, est=3.5324, details={'was_impossible': False}),\n",
       " Prediction(uid=127900, iid=784, r_ui=4.0, est=3.097374794209381, details={'was_impossible': False})]"
      ]
     },
     "execution_count": 44,
     "metadata": {},
     "output_type": "execute_result"
    }
   ],
   "source": [
    "predictions = svd_model.test(testset)\n",
    "predictions[0:10]"
   ]
  },
  {
   "cell_type": "code",
   "execution_count": 55,
   "id": "e2c39460",
   "metadata": {},
   "outputs": [
    {
     "name": "stdout",
     "output_type": "stream",
     "text": [
      "RMSE: 1.0355\n"
     ]
    },
    {
     "data": {
      "text/plain": [
       "1.0355419243918176"
      ]
     },
     "execution_count": 55,
     "metadata": {},
     "output_type": "execute_result"
    }
   ],
   "source": [
    "accuracy.rmse(predictions)"
   ]
  },
  {
   "cell_type": "markdown",
   "id": "a1342606",
   "metadata": {},
   "source": [
    "Использую еще одну библиотеку для упрощения работы."
   ]
  },
  {
   "cell_type": "code",
   "execution_count": 1,
   "id": "0082835b",
   "metadata": {},
   "outputs": [
    {
     "name": "stdout",
     "output_type": "stream",
     "text": [
      "Collecting lightfm\n",
      "  Downloading lightfm-1.16.tar.gz (310 kB)\n",
      "Requirement already satisfied: numpy in c:\\users\\kirpa\\anaconda3\\lib\\site-packages (from lightfm) (1.19.5)\n",
      "Requirement already satisfied: scipy>=0.17.0 in c:\\users\\kirpa\\anaconda3\\lib\\site-packages (from lightfm) (1.6.2)\n",
      "Requirement already satisfied: requests in c:\\users\\kirpa\\anaconda3\\lib\\site-packages (from lightfm) (2.25.1)\n",
      "Requirement already satisfied: scikit-learn in c:\\users\\kirpa\\anaconda3\\lib\\site-packages (from lightfm) (1.0.2)\n",
      "Requirement already satisfied: urllib3<1.27,>=1.21.1 in c:\\users\\kirpa\\anaconda3\\lib\\site-packages (from requests->lightfm) (1.26.4)\n",
      "Requirement already satisfied: chardet<5,>=3.0.2 in c:\\users\\kirpa\\anaconda3\\lib\\site-packages (from requests->lightfm) (4.0.0)\n",
      "Requirement already satisfied: idna<3,>=2.5 in c:\\users\\kirpa\\anaconda3\\lib\\site-packages (from requests->lightfm) (2.10)\n",
      "Requirement already satisfied: certifi>=2017.4.17 in c:\\users\\kirpa\\anaconda3\\lib\\site-packages (from requests->lightfm) (2020.12.5)\n",
      "Requirement already satisfied: threadpoolctl>=2.0.0 in c:\\users\\kirpa\\anaconda3\\lib\\site-packages (from scikit-learn->lightfm) (2.1.0)\n",
      "Requirement already satisfied: joblib>=0.11 in c:\\users\\kirpa\\anaconda3\\lib\\site-packages (from scikit-learn->lightfm) (1.0.1)\n",
      "Building wheels for collected packages: lightfm\n",
      "  Building wheel for lightfm (setup.py): started\n",
      "  Building wheel for lightfm (setup.py): finished with status 'done'\n",
      "  Created wheel for lightfm: filename=lightfm-1.16-cp38-cp38-win_amd64.whl size=430786 sha256=7d70e6f2983c7c6c88e9f103f58d716664e3de33d2cc60b470ce475f8266e1aa\n",
      "  Stored in directory: c:\\users\\kirpa\\appdata\\local\\pip\\cache\\wheels\\ec\\bb\\51\\9c487d021c1373b691d13cadca0b65b6852627b1f3f43550fa\n",
      "Successfully built lightfm\n",
      "Installing collected packages: lightfm\n",
      "Successfully installed lightfm-1.16\n"
     ]
    }
   ],
   "source": [
    "!pip install lightfm"
   ]
  },
  {
   "cell_type": "code",
   "execution_count": 17,
   "id": "0a957b78",
   "metadata": {},
   "outputs": [],
   "source": [
    "from lightfm import LightFM\n",
    "from lightfm.datasets import fetch_movielens\n",
    "from lightfm.evaluation import precision_at_k\n",
    "\n",
    "data = fetch_movielens(min_rating=3.0)\n",
    "\n",
    "model = LightFM(loss='warp')\n",
    "model.fit(data['train'], epochs=30, num_threads=2)\n",
    "\n",
    "test_precision = precision_at_k(model, data['test'], k=5)"
   ]
  },
  {
   "cell_type": "code",
   "execution_count": 14,
   "id": "06aff80e",
   "metadata": {},
   "outputs": [
    {
     "data": {
      "text/plain": [
       "(\"<943x1682 sparse matrix of type '<class 'numpy.float32'>'\\n\\twith 74627 stored elements in COOrdinate format>\",\n",
       " \"<943x1682 sparse matrix of type '<class 'numpy.int32'>'\\n\\twith 7893 stored elements in COOrdinate format>\")"
      ]
     },
     "execution_count": 14,
     "metadata": {},
     "output_type": "execute_result"
    }
   ],
   "source": [
    "repr(data['train']), repr(data['test'])"
   ]
  },
  {
   "cell_type": "code",
   "execution_count": 23,
   "id": "79c69292",
   "metadata": {},
   "outputs": [
    {
     "data": {
      "text/plain": [
       "(0.0, 0.8, 0.10540828)"
      ]
     },
     "execution_count": 23,
     "metadata": {},
     "output_type": "execute_result"
    }
   ],
   "source": [
    "np.median(test_precision), test_precision.max(), test_precision.mean()"
   ]
  },
  {
   "cell_type": "markdown",
   "id": "3af458c6",
   "metadata": {},
   "source": [
    "Много предсказаний, которые никак не попали в то, что нравится пользователю. Однако же есть и хорошие выдачи, 80% фильмов в них годятся для рекомендации."
   ]
  },
  {
   "cell_type": "code",
   "execution_count": null,
   "id": "db9f0c5d",
   "metadata": {},
   "outputs": [],
   "source": [
    "model = LightFM(loss='warp', learning_rate=0.90)\n",
    "model = model.fit(user_film_matrix,\n",
    "                  epochs=100, verbose=False)"
   ]
  },
  {
   "cell_type": "code",
   "execution_count": null,
   "id": "16903afa",
   "metadata": {},
   "outputs": [],
   "source": [
    "scores = pd.Series(model.predict(user, np.arange(n_items), item_features=user_film_matrix))"
   ]
  }
 ],
 "metadata": {
  "kernelspec": {
   "display_name": "Python 3",
   "language": "python",
   "name": "python3"
  },
  "language_info": {
   "codemirror_mode": {
    "name": "ipython",
    "version": 3
   },
   "file_extension": ".py",
   "mimetype": "text/x-python",
   "name": "python",
   "nbconvert_exporter": "python",
   "pygments_lexer": "ipython3",
   "version": "3.8.8"
  }
 },
 "nbformat": 4,
 "nbformat_minor": 5
}
